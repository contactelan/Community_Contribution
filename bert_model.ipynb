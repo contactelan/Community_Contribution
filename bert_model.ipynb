{
  "nbformat": 4,
  "nbformat_minor": 0,
  "metadata": {
    "colab": {
      "name": "bert_model.ipynb",
      "provenance": [],
      "collapsed_sections": [],
      "authorship_tag": "ABX9TyOk9cFRbaZQ6ROeN57AbcNh",
      "include_colab_link": true
    },
    "kernelspec": {
      "name": "python3",
      "display_name": "Python 3"
    }
  },
  "cells": [
    {
      "cell_type": "markdown",
      "metadata": {
        "id": "view-in-github",
        "colab_type": "text"
      },
      "source": [
        "<a href=\"https://colab.research.google.com/github/JayaBigDataIsCool/Community_Contribution/blob/main/bert_model.ipynb\" target=\"_parent\"><img src=\"https://colab.research.google.com/assets/colab-badge.svg\" alt=\"Open In Colab\"/></a>"
      ]
    },
    {
      "cell_type": "code",
      "metadata": {
        "colab": {
          "base_uri": "https://localhost:8080/"
        },
        "id": "ZQeKxxz3cjAF",
        "outputId": "ef30745b-a890-4db5-dba1-f6dae6669104"
      },
      "source": [
        "import os\r\n",
        "\r\n",
        "# Install java\r\n",
        "! apt-get install -y openjdk-8-jdk-headless -qq > /dev/null\r\n",
        "os.environ[\"JAVA_HOME\"] = \"/usr/lib/jvm/java-8-openjdk-amd64\"\r\n",
        "os.environ[\"PATH\"] = os.environ[\"JAVA_HOME\"] + \"/bin:\" + os.environ[\"PATH\"]\r\n",
        "! java -version\r\n",
        "\r\n",
        "# Install pyspark\r\n",
        "! pip install --ignore-installed -q pyspark==2.4.4\r\n",
        "\r\n",
        "# Install Spark NLP\r\n",
        "! pip install --ignore-installed -q spark-nlp==2.4.5"
      ],
      "execution_count": 1,
      "outputs": [
        {
          "output_type": "stream",
          "text": [
            "openjdk version \"1.8.0_275\"\n",
            "OpenJDK Runtime Environment (build 1.8.0_275-8u275-b01-0ubuntu1~18.04-b01)\n",
            "OpenJDK 64-Bit Server VM (build 25.275-b01, mixed mode)\n",
            "\u001b[K     |████████████████████████████████| 215.7MB 68kB/s \n",
            "\u001b[K     |████████████████████████████████| 204kB 40.7MB/s \n",
            "\u001b[?25h  Building wheel for pyspark (setup.py) ... \u001b[?25l\u001b[?25hdone\n",
            "\u001b[K     |████████████████████████████████| 112kB 4.3MB/s \n",
            "\u001b[?25h"
          ],
          "name": "stdout"
        }
      ]
    },
    {
      "cell_type": "code",
      "metadata": {
        "colab": {
          "base_uri": "https://localhost:8080/",
          "height": 250
        },
        "id": "q9Rc4iNoc6eg",
        "outputId": "b237c6ee-00f8-43e8-be76-bd8ebcd31871"
      },
      "source": [
        "import sparknlp\r\n",
        "\r\n",
        "spark = sparknlp.start(gpu=True) # for GPU training >> sparknlp.start(gpu=True)\r\n",
        "\r\n",
        "from sparknlp.base import *\r\n",
        "from sparknlp.annotator import *\r\n",
        "from pyspark.ml import Pipeline\r\n",
        "import pandas as pd\r\n",
        "\r\n",
        "print(\"Spark NLP version\", sparknlp.version())\r\n",
        "\r\n",
        "print(\"Apache Spark version:\", spark.version)\r\n",
        "\r\n",
        "spark"
      ],
      "execution_count": 2,
      "outputs": [
        {
          "output_type": "stream",
          "text": [
            "Spark NLP version 2.4.5\n",
            "Apache Spark version: 2.4.4\n"
          ],
          "name": "stdout"
        },
        {
          "output_type": "execute_result",
          "data": {
            "text/html": [
              "\n",
              "            <div>\n",
              "                <p><b>SparkSession - in-memory</b></p>\n",
              "                \n",
              "        <div>\n",
              "            <p><b>SparkContext</b></p>\n",
              "\n",
              "            <p><a href=\"http://b6d0a9b36135:4040\">Spark UI</a></p>\n",
              "\n",
              "            <dl>\n",
              "              <dt>Version</dt>\n",
              "                <dd><code>v2.4.4</code></dd>\n",
              "              <dt>Master</dt>\n",
              "                <dd><code>local[*]</code></dd>\n",
              "              <dt>AppName</dt>\n",
              "                <dd><code>Spark NLP</code></dd>\n",
              "            </dl>\n",
              "        </div>\n",
              "        \n",
              "            </div>\n",
              "        "
            ],
            "text/plain": [
              "<pyspark.sql.session.SparkSession at 0x7f4f8091ada0>"
            ]
          },
          "metadata": {
            "tags": []
          },
          "execution_count": 2
        }
      ]
    },
    {
      "cell_type": "code",
      "metadata": {
        "colab": {
          "base_uri": "https://localhost:8080/"
        },
        "id": "GsdBxjYOc6bn",
        "outputId": "bd7cb6f9-d97d-43ef-8a5c-85e95d58f6ca"
      },
      "source": [
        "\r\n",
        "trainDataset = spark.read \\\r\n",
        "      .option(\"header\", True) \\\r\n",
        "      .csv(\"/content/dataset_for_cls_mdl.csv\")\r\n",
        "\r\n",
        "trainDataset.show(truncate=500)"
      ],
      "execution_count": 8,
      "outputs": [
        {
          "output_type": "stream",
          "text": [
            "+--------------------------------------------------------------------------------------------------------------------------------------------------------------+------------------------------+\n",
            "|                                                                                                                                                          text|                         class|\n",
            "+--------------------------------------------------------------------------------------------------------------------------------------------------------------+------------------------------+\n",
            "|             Are you seeing a dramatic deterioration in export conditions in your conversations with manufacturing clients since the end of the third quarter?|     Impact of market slowdown|\n",
            "|                                                            Is the decline evenly split between sectors, or is it one of them that pulls everything else down?| Industry-specific environment|\n",
            "|                                                        In terms of the magnitude of these investments, will you be maintaining this level throughout the year|       Short-term growth plans|\n",
            "|                                                                         What percentage of year-over-year increase is attributable to the weaker U.S. dollar?|         Currency fluctuations|\n",
            "|Do you see any threats of ongoing purchases of capital equipment, given the economic environment and the tightening of the credit and lease financing markets?|  Market liquidity and leasing|\n",
            "|                                                 Gross impaired loans increased in the quarter. Can we expect relatively full recovery or resolution of these?|                         Loans|\n",
            "|                                       Are you seeing major slowdowns taking place, maybe with retailers pushing back some orders or putting projects on hold?| Supply-and-demand environment|\n",
            "|            Are you considering any programs to help customers with long-term payback to the company instead of them having to achieve financing on their own?|               Customer credit|\n",
            "|                 How did this pricing increase come about late in the year, what was retailers� reaction to it, and how is it going in terms of implementation|     Product pricing structure|\n",
            "|             Is it fair to assume that your Q4 factory sales growth rate year-over-year will pick up, so that this will be the lowest sales growth for awhile?|     Sales growth expectations|\n",
            "+--------------------------------------------------------------------------------------------------------------------------------------------------------------+------------------------------+\n",
            "\n"
          ],
          "name": "stdout"
        }
      ]
    },
    {
      "cell_type": "code",
      "metadata": {
        "id": "hI_H55FAc6X8"
      },
      "source": [
        "from pyspark.sql.functions import col"
      ],
      "execution_count": 9,
      "outputs": []
    },
    {
      "cell_type": "code",
      "metadata": {
        "id": "73axXnypc6V0"
      },
      "source": [
        "document_assembler = DocumentAssembler() \\\r\n",
        "    .setInputCol(\"text\") \\\r\n",
        "    .setOutputCol(\"document\")"
      ],
      "execution_count": 10,
      "outputs": []
    },
    {
      "cell_type": "code",
      "metadata": {
        "id": "LzLV2ajpc6SW"
      },
      "source": [
        "tokenizer = Tokenizer() \\\r\n",
        "  .setInputCols([\"document\"]) \\\r\n",
        "  .setOutputCol(\"token\")"
      ],
      "execution_count": 11,
      "outputs": []
    },
    {
      "cell_type": "code",
      "metadata": {
        "id": "aW2deyPzc6QJ"
      },
      "source": [
        "normalizer = Normalizer() \\\r\n",
        "    .setInputCols([\"token\"]) \\\r\n",
        "    .setOutputCol(\"normalized\")"
      ],
      "execution_count": 12,
      "outputs": []
    },
    {
      "cell_type": "code",
      "metadata": {
        "id": "OXF_ESfSc6M3"
      },
      "source": [
        "stopwords_cleaner = StopWordsCleaner()\\\r\n",
        "      .setInputCols(\"normalized\")\\\r\n",
        "      .setOutputCol(\"cleanTokens\")\\\r\n",
        "      .setCaseSensitive(False)\r\n"
      ],
      "execution_count": 13,
      "outputs": []
    },
    {
      "cell_type": "code",
      "metadata": {
        "colab": {
          "base_uri": "https://localhost:8080/"
        },
        "id": "E75yZOOXeFnj",
        "outputId": "28327107-8cfc-4088-da35-edf6e61c77ad"
      },
      "source": [
        "lemma = LemmatizerModel.pretrained('lemma_antbnc') \\\r\n",
        "    .setInputCols([\"cleanTokens\"]) \\\r\n",
        "    .setOutputCol(\"lemma\")"
      ],
      "execution_count": 14,
      "outputs": [
        {
          "output_type": "stream",
          "text": [
            "lemma_antbnc download started this may take some time.\n",
            "Approximate size to download 907.6 KB\n",
            "[OK!]\n"
          ],
          "name": "stdout"
        }
      ]
    },
    {
      "cell_type": "code",
      "metadata": {
        "colab": {
          "base_uri": "https://localhost:8080/"
        },
        "id": "hYo_FJKLeFkt",
        "outputId": "f4514d76-3a6c-4c6a-e72f-2eedd7641b4f"
      },
      "source": [
        "glove_embeddings = WordEmbeddingsModel().pretrained() \\\r\n",
        " .setInputCols([\"document\",'lemma'])\\\r\n",
        " .setOutputCol(\"embeddings\")\\\r\n",
        " .setCaseSensitive(False)"
      ],
      "execution_count": 15,
      "outputs": [
        {
          "output_type": "stream",
          "text": [
            "glove_100d download started this may take some time.\n",
            "Approximate size to download 145.3 MB\n",
            "[OK!]\n"
          ],
          "name": "stdout"
        }
      ]
    },
    {
      "cell_type": "code",
      "metadata": {
        "id": "srv9yjkFeFiZ"
      },
      "source": [
        "embeddingsSentence = SentenceEmbeddings() \\\r\n",
        "      .setInputCols([\"document\", \"embeddings\"]) \\\r\n",
        "      .setOutputCol(\"sentence_embeddings\") \\\r\n",
        "      .setPoolingStrategy(\"AVERAGE\")"
      ],
      "execution_count": 16,
      "outputs": []
    },
    {
      "cell_type": "code",
      "metadata": {
        "id": "vrjyMhnheFff"
      },
      "source": [
        "classsifierdl = ClassifierDLApproach()\\\r\n",
        "  .setInputCols([\"sentence_embeddings\"])\\\r\n",
        "  .setOutputCol(\"category\")\\\r\n",
        "  .setLabelColumn(\"class\")\\\r\n",
        "  .setMaxEpochs(100)\\\r\n",
        "  .setEnableOutputLogs(True)"
      ],
      "execution_count": 17,
      "outputs": []
    },
    {
      "cell_type": "code",
      "metadata": {
        "id": "JSE9WmZNeFdL"
      },
      "source": [
        "clf_pipeline = Pipeline(\r\n",
        "    stages=[document_assembler, \r\n",
        "            tokenizer,\r\n",
        "            normalizer,\r\n",
        "            stopwords_cleaner, \r\n",
        "            lemma, \r\n",
        "            glove_embeddings,\r\n",
        "            embeddingsSentence,\r\n",
        "            classsifierdl])"
      ],
      "execution_count": 18,
      "outputs": []
    },
    {
      "cell_type": "code",
      "metadata": {
        "colab": {
          "base_uri": "https://localhost:8080/"
        },
        "id": "v3Nzu5DjeFZk",
        "outputId": "0c9ab133-2129-4da1-a487-7aa91a81975d"
      },
      "source": [
        "%%time\r\n",
        "\r\n",
        "clf_pipelineModel = clf_pipeline.fit(trainDataset)"
      ],
      "execution_count": 19,
      "outputs": [
        {
          "output_type": "stream",
          "text": [
            "CPU times: user 88.4 ms, sys: 8.79 ms, total: 97.2 ms\n",
            "Wall time: 10.8 s\n"
          ],
          "name": "stdout"
        }
      ]
    },
    {
      "cell_type": "code",
      "metadata": {
        "colab": {
          "base_uri": "https://localhost:8080/"
        },
        "id": "C1oC3A71eFXk",
        "outputId": "57cfdd29-6a07-41b1-a96c-5aa4d72b8323"
      },
      "source": [
        "\r\n",
        "preds = clf_pipelineModel.transform(trainDataset)\r\n",
        "\r\n",
        "preds.select('text','class',\"category.result\").show(10, truncate=100)"
      ],
      "execution_count": 25,
      "outputs": [
        {
          "output_type": "stream",
          "text": [
            "+----------------------------------------------------------------------------------------------------+------------------------------+--------------------------------+\n",
            "|                                                                                                text|                         class|                          result|\n",
            "+----------------------------------------------------------------------------------------------------+------------------------------+--------------------------------+\n",
            "|Are you seeing a dramatic deterioration in export conditions in your conversations with manufactu...|     Impact of market slowdown|     [Impact of market slowdown]|\n",
            "|  Is the decline evenly split between sectors, or is it one of them that pulls everything else down?| Industry-specific environment| [Industry-specific environment]|\n",
            "|In terms of the magnitude of these investments, will you be maintaining this level throughout the...|       Short-term growth plans|       [Short-term growth plans]|\n",
            "|               What percentage of year-over-year increase is attributable to the weaker U.S. dollar?|         Currency fluctuations|         [Currency fluctuations]|\n",
            "|Do you see any threats of ongoing purchases of capital equipment, given the economic environment ...|  Market liquidity and leasing|  [Market liquidity and leasing]|\n",
            "|Gross impaired loans increased in the quarter. Can we expect relatively full recovery or resoluti...|                         Loans|                         [Loans]|\n",
            "|Are you seeing major slowdowns taking place, maybe with retailers pushing back some orders or put...| Supply-and-demand environment|[ Supply-and-demand environment]|\n",
            "|Are you considering any programs to help customers with long-term payback to the company instead ...|               Customer credit|               [Customer credit]|\n",
            "|How did this pricing increase come about late in the year, what was retailers� reaction to it, an...|     Product pricing structure|     [Product pricing structure]|\n",
            "|Is it fair to assume that your Q4 factory sales growth rate year-over-year will pick up, so that ...|     Sales growth expectations|     [Sales growth expectations]|\n",
            "+----------------------------------------------------------------------------------------------------+------------------------------+--------------------------------+\n",
            "\n"
          ],
          "name": "stdout"
        }
      ]
    },
    {
      "cell_type": "code",
      "metadata": {
        "id": "5gfP7y7tc6KZ"
      },
      "source": [
        ""
      ],
      "execution_count": null,
      "outputs": []
    }
  ]
}